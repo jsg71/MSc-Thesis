{
 "cells": [
  {
   "cell_type": "code",
   "execution_count": 192,
   "metadata": {
    "collapsed": true
   },
   "outputs": [],
   "source": [
    "import pandas as pd\n",
    "import numpy as np\n",
    "\n",
    "import matplotlib.pyplot as plt\n",
    "from sklearn import preprocessing\n",
    "import GPy\n",
    "import itertools\n",
    "%matplotlib inline\n",
    "import math\n",
    "from sklearn.datasets import fetch_mldata\n",
    "from pandas.tools.plotting import autocorrelation_plot"
   ]
  },
  {
   "cell_type": "code",
   "execution_count": 294,
   "metadata": {
    "collapsed": true
   },
   "outputs": [],
   "source": [
    "import quandl\n",
    "yhoo = quandl.get(\"EOD/AABA\", authtoken=\"\")"
   ]
  },
  {
   "cell_type": "code",
   "execution_count": 295,
   "metadata": {},
   "outputs": [
    {
     "name": "stderr",
     "output_type": "stream",
     "text": [
      " /Users/johngoodacre/anaconda/envs/gp/lib/python3.6/site-packages/ipykernel_launcher.py:35: FutureWarning:reshape is deprecated and will raise in a subsequent release. Please use .values.reshape(...) instead\n"
     ]
    }
   ],
   "source": [
    "#Given features and targets make an augmented structure\n",
    "\n",
    "#make a flat augmented structure, this time\n",
    "max_delta = 30\n",
    "\n",
    "#adapt the functional augmented to just do augmented, ie set year =1\n",
    "years = 1\n",
    "days = yhoo.shape[0]\n",
    "n=list(range(0,years))\n",
    "ob=list(range(0,days))\n",
    "c = list(itertools.product(n, ob))\n",
    "tar=list(range(0,days))\n",
    "combo = list(itertools.product(c,tar))\n",
    "flat_combo = [[elem[0][0],elem[0][1],elem[1]] for elem in combo]\n",
    "\n",
    "aug_raw_data = pd.DataFrame(flat_combo, columns=['Year', 'Ob_day', 'Tar_day',])\n",
    "aug_raw_data['Delta']= aug_raw_data['Tar_day'] - aug_raw_data['Ob_day']\n",
    "\n",
    "#do the features - messy way but have adapted from func-aug\n",
    "#now put in the features\n",
    "ob_pd = yhoo.shift(1)\n",
    "features = ob_pd[['Adj_Close','Volume']]\n",
    "features = features.values\n",
    "features[0]=0\n",
    "\n",
    "oprices = np.tile(features[:,0].reshape(years,days),days).reshape((-1,))\n",
    "aug_raw_data['OPrices'] = oprices.reshape(days,days).T.flatten()\n",
    "\n",
    "ovols = np.tile(features[:,1].reshape(years,days),days).reshape((-1,))\n",
    "aug_raw_data['OVols'] = ovols.reshape(days,days).T.flatten()\n",
    "\n",
    "prices = yhoo.Adj_Close\n",
    "\n",
    "#do the targets\n",
    "aug_raw_data['TPrices'] = np.tile(prices.reshape(years,days),days).reshape((-1,))\n",
    "\n",
    "aug_raw_data = aug_raw_data[(aug_raw_data[\"Delta\"] >= 0) & (aug_raw_data[\"Delta\"] < max_delta)]\n",
    "aug_raw_data = aug_raw_data.reset_index(drop=True)\n",
    "aug_raw_data.drop('Year', axis=1, inplace=True)\n",
    "aug_raw_data.drop('Tar_day', axis=1, inplace=True)"
   ]
  },
  {
   "cell_type": "code",
   "execution_count": 296,
   "metadata": {},
   "outputs": [
    {
     "data": {
      "text/html": [
       "<div>\n",
       "<style>\n",
       "    .dataframe thead tr:only-child th {\n",
       "        text-align: right;\n",
       "    }\n",
       "\n",
       "    .dataframe thead th {\n",
       "        text-align: left;\n",
       "    }\n",
       "\n",
       "    .dataframe tbody tr th {\n",
       "        vertical-align: top;\n",
       "    }\n",
       "</style>\n",
       "<table border=\"1\" class=\"dataframe\">\n",
       "  <thead>\n",
       "    <tr style=\"text-align: right;\">\n",
       "      <th></th>\n",
       "      <th>Ob_day</th>\n",
       "      <th>Delta</th>\n",
       "      <th>OPrices</th>\n",
       "      <th>OVols</th>\n",
       "      <th>TPrices</th>\n",
       "    </tr>\n",
       "  </thead>\n",
       "  <tbody>\n",
       "    <tr>\n",
       "      <th>160900</th>\n",
       "      <td>5375</td>\n",
       "      <td>1</td>\n",
       "      <td>62.20</td>\n",
       "      <td>11943624.0</td>\n",
       "      <td>63.60</td>\n",
       "    </tr>\n",
       "    <tr>\n",
       "      <th>160901</th>\n",
       "      <td>5375</td>\n",
       "      <td>2</td>\n",
       "      <td>62.20</td>\n",
       "      <td>11943624.0</td>\n",
       "      <td>65.42</td>\n",
       "    </tr>\n",
       "    <tr>\n",
       "      <th>160902</th>\n",
       "      <td>5376</td>\n",
       "      <td>0</td>\n",
       "      <td>63.07</td>\n",
       "      <td>13009004.0</td>\n",
       "      <td>63.60</td>\n",
       "    </tr>\n",
       "    <tr>\n",
       "      <th>160903</th>\n",
       "      <td>5376</td>\n",
       "      <td>1</td>\n",
       "      <td>63.07</td>\n",
       "      <td>13009004.0</td>\n",
       "      <td>65.42</td>\n",
       "    </tr>\n",
       "    <tr>\n",
       "      <th>160904</th>\n",
       "      <td>5377</td>\n",
       "      <td>0</td>\n",
       "      <td>63.60</td>\n",
       "      <td>4594092.0</td>\n",
       "      <td>65.42</td>\n",
       "    </tr>\n",
       "  </tbody>\n",
       "</table>\n",
       "</div>"
      ],
      "text/plain": [
       "        Ob_day  Delta  OPrices       OVols  TPrices\n",
       "160900    5375      1    62.20  11943624.0    63.60\n",
       "160901    5375      2    62.20  11943624.0    65.42\n",
       "160902    5376      0    63.07  13009004.0    63.60\n",
       "160903    5376      1    63.07  13009004.0    65.42\n",
       "160904    5377      0    63.60   4594092.0    65.42"
      ]
     },
     "execution_count": 296,
     "metadata": {},
     "output_type": "execute_result"
    }
   ],
   "source": [
    "aug_raw_data.tail()"
   ]
  },
  {
   "cell_type": "code",
   "execution_count": 316,
   "metadata": {
    "collapsed": true
   },
   "outputs": [],
   "source": [
    "#split the data between training and test\n",
    "pred_day = 500\n",
    "days_back = 100\n",
    "\n",
    "train_data = aug_raw_data[(aug_raw_data['Ob_day']<pred_day) & ((aug_raw_data['Ob_day']+aug_raw_data['Delta'])<pred_day) ]\n",
    "\n",
    "#test data some delta zeros\n",
    "delta_zero = aug_raw_data[(aug_raw_data['Delta']==0) & (aug_raw_data['Ob_day']<pred_day) & \n",
    "                         (aug_raw_data['Ob_day']>=(pred_day-days_back))]\n",
    "test_data = pd.concat([delta_zero,aug_raw_data[(aug_raw_data['Ob_day']==pred_day)]])\n"
   ]
  },
  {
   "cell_type": "code",
   "execution_count": 322,
   "metadata": {
    "collapsed": true
   },
   "outputs": [],
   "source": [
    "#do the sampling for the training data\n",
    "num_samples = 1000\n",
    "#add on all delta zeros after\n",
    "sample_bool = ((train_data['Delta'])!=0)\n",
    "\n",
    "samp_train_data = train_data[sample_bool].reset_index(drop=True)\n",
    "\n",
    "#sampling function\n",
    "rows = np.random.choice(samp_train_data.shape[0], num_samples, replace=False)\n",
    "rows = np.sort(rows)\n",
    "\n",
    "sampled_train = train_data.ix[rows]\n",
    "df_XYtrain = pd.DataFrame(sampled_train) \n",
    "delta_zero =train_data[(train_data['Delta']==0)]\n",
    "\n",
    "samp_aug_train = pd.concat([df_XYtrain, delta_zero], axis=0)\n"
   ]
  },
  {
   "cell_type": "code",
   "execution_count": 323,
   "metadata": {
    "collapsed": true
   },
   "outputs": [],
   "source": [
    "#so now have training data in augmented form samp_aug_train and test data - test_data\n",
    "#optimisation\n",
    "\n",
    "feat_lst = ['Ob_day','OPrices','OVols','Delta']\n",
    "\n",
    "X = (samp_aug_train[feat_lst].as_matrix())\n",
    "y = ((samp_aug_train[['TPrices']]).as_matrix())\n",
    "\n",
    "Xpred = (test_data[feat_lst].as_matrix())\n",
    "ytest = ((test_data[['TPrices']]).as_matrix())"
   ]
  },
  {
   "cell_type": "code",
   "execution_count": 324,
   "metadata": {
    "collapsed": true
   },
   "outputs": [],
   "source": [
    "k_input_d = len(feat_lst)\n",
    "k = GPy.kern.RatQuad(input_dim=k_input_d, variance=1.0, lengthscale=1.,ARD=True) + GPy.kern.Bias(input_dim=k_input_d)"
   ]
  },
  {
   "cell_type": "code",
   "execution_count": 325,
   "metadata": {},
   "outputs": [
    {
     "name": "stdout",
     "output_type": "stream",
     "text": [
      "Running L-BFGS-B (Scipy implementation) Code:\n",
      "  runtime   i      f              |g|        \n",
      "    04s45  0009   6.786969e+02   3.647934e+02 \n",
      "    06s92  0014   6.686940e+02   1.075285e+03 \n",
      "    12s84  0026   5.461140e+02   1.090861e+05 "
     ]
    },
    {
     "name": "stderr",
     "output_type": "stream",
     "text": [
      " /Users/johngoodacre/anaconda/envs/gp/lib/python3.6/site-packages/GPy/kern/src/stationary.py:129: RuntimeWarning:overflow encountered in square\n",
      " /Users/johngoodacre/anaconda/envs/gp/lib/python3.6/site-packages/GPy/kern/src/stationary.py:130: RuntimeWarning:invalid value encountered in add\n",
      " /Users/johngoodacre/anaconda/envs/gp/lib/python3.6/site-packages/paramz-0.7.3-py3.6.egg/paramz/transformations.py:106: RuntimeWarning:invalid value encountered in greater\n",
      " /Users/johngoodacre/anaconda/envs/gp/lib/python3.6/site-packages/paramz-0.7.3-py3.6.egg/paramz/transformations.py:111: RuntimeWarning:invalid value encountered in greater\n"
     ]
    },
    {
     "name": "stdout",
     "output_type": "stream",
     "text": [
      "    14s32  0031   5.461140e+02   1.090861e+05 \n",
      "Runtime:     14s32\n",
      "Optimization status: Converged\n",
      "\n",
      "Optimization restart 1/3, f = -1087.2550992730332\n",
      "Optimization restart 2/3, f = -1087.3604266694506\n",
      "Optimization restart 3/3, f = 2424.213516938874\n"
     ]
    }
   ],
   "source": [
    "restarts =3\n",
    "mod = GPy.models.GPRegression(X, y, k) \n",
    "        \n",
    "mod.constrain_positive('')\n",
    "mod.optimize(messages=True)\n",
    "mod.optimize_restarts(num_restarts=restarts)  \n",
    "        \n",
    "ll = mod.log_likelihood()\n",
    "    \n",
    "ypred, var = mod.predict(Xpred)"
   ]
  },
  {
   "cell_type": "code",
   "execution_count": 326,
   "metadata": {},
   "outputs": [
    {
     "data": {
      "text/plain": [
       "<matplotlib.collections.LineCollection at 0x149b68be0>"
      ]
     },
     "execution_count": 326,
     "metadata": {},
     "output_type": "execute_result"
    },
    {
     "data": {
      "image/png": "[encoded data removed]",
      "text/plain": [
       "<matplotlib.figure.Figure at 0x14ca55860>"
      ]
     },
     "metadata": {},
     "output_type": "display_data"
    }
   ],
   "source": [
    "std = 1.96*np.sqrt(var).reshape(-1,)\n",
    "x = np.linspace(0,ytest.shape[0],ytest.shape[0]).reshape(-1,)\n",
    "ypred = ypred.reshape(-1,)\n",
    "\n",
    "plt.plot(ytest)\n",
    "plt.plot(ypred)\n",
    "plt.fill_between(x,(ypred- std), (ypred+ std), color='yellow', alpha=.3, label='Cal SD')\n",
    "plt.grid()\n",
    "ymin, ymax = plt.ylim()\n",
    "plt.vlines(days_back-1,ymin,ymax)"
   ]
  },
  {
   "cell_type": "code",
   "execution_count": 332,
   "metadata": {},
   "outputs": [
    {
     "data": {
      "text/plain": [
       "array([ 6.39999982,  6.26865621,  6.22710249,  6.12375591,  6.00582416,\n",
       "        5.89471923,  5.79607244,  5.70976084,  5.63410817,  5.56729888,\n",
       "        5.50776399,  5.45423346,  5.40569837,  5.36135759,  5.32057001,\n",
       "        5.28281842,  5.24768038,  5.21480791,  5.18391107,  5.15474616,\n",
       "        5.1271067 ,  5.10081599,  5.0757219 ,  5.05169287,  5.02861402,\n",
       "        5.00638475,  4.98491662,  4.96413165,  4.94396076,  4.92434256,\n",
       "        4.90522278])"
      ]
     },
     "execution_count": 332,
     "metadata": {},
     "output_type": "execute_result"
    }
   ],
   "source": [
    "ypred[days_back-1:]"
   ]
  },
  {
   "cell_type": "code",
   "execution_count": 337,
   "metadata": {
    "collapsed": true
   },
   "outputs": [],
   "source": [
    "pred_returns = (ypred[days_back-1:]/ypred[days_back-1])-1"
   ]
  },
  {
   "cell_type": "code",
   "execution_count": 341,
   "metadata": {},
   "outputs": [
    {
     "data": {
      "text/plain": [
       "array([ 0.        , -0.02052244, -0.02701521, -0.04316311, -0.06158995,\n",
       "       -0.0789501 , -0.09436366, -0.10784984, -0.11967057, -0.13010953,\n",
       "       -0.13941185, -0.147776  , -0.15535961, -0.16228785, -0.16866091,\n",
       "       -0.1745596 , -0.18004992, -0.18518624, -0.19001387, -0.19457089,\n",
       "       -0.19888956, -0.20299748, -0.20691843, -0.21067297, -0.21427904,\n",
       "       -0.21775236, -0.22110676, -0.22435441, -0.22750611, -0.23057145,\n",
       "       -0.23355892])"
      ]
     },
     "execution_count": 341,
     "metadata": {},
     "output_type": "execute_result"
    }
   ],
   "source": [
    "pred_returns"
   ]
  },
  {
   "cell_type": "code",
   "execution_count": 353,
   "metadata": {
    "collapsed": true
   },
   "outputs": [],
   "source": [
    "test = np.arange(1,pred_returns.shape[0])"
   ]
  },
  {
   "cell_type": "code",
   "execution_count": 378,
   "metadata": {
    "collapsed": true
   },
   "outputs": [],
   "source": [
    "rets = abs(pred_returns[1:]/test)"
   ]
  },
  {
   "cell_type": "code",
   "execution_count": 389,
   "metadata": {
    "collapsed": true
   },
   "outputs": [],
   "source": [
    "sqrt=var.flatten()[days_back:]"
   ]
  },
  {
   "cell_type": "code",
   "execution_count": 392,
   "metadata": {},
   "outputs": [
    {
     "data": {
      "text/plain": [
       "[<matplotlib.lines.Line2D at 0x14c6eda58>]"
      ]
     },
     "execution_count": 392,
     "metadata": {},
     "output_type": "execute_result"
    },
    {
     "data": {
      "image/png": "[encoded data removed]",
      "text/plain": [
       "<matplotlib.figure.Figure at 0x11a530cf8>"
      ]
     },
     "metadata": {},
     "output_type": "display_data"
    }
   ],
   "source": [
    "plt.plot(rets/sqrt)"
   ]
  },
  {
   "cell_type": "code",
   "execution_count": 336,
   "metadata": {},
   "outputs": [
    {
     "data": {
      "text/plain": [
       "array([ 6.4     ,  6.19125 ,  5.828125,  6.078125,  7.15625 ,  7.0625  ,\n",
       "        7.18125 ,  7.3875  ,  8.05    ,  7.59375 ,  7.8625  ,  7.725   ,\n",
       "        7.38125 ,  7.0125  ,  7.175   ,  7.00625 ,  7.40625 ,  7.39375 ,\n",
       "        7.43125 ,  7.4125  ,  7.55625 ,  7.3     ,  7.19375 ,  7.2     ,\n",
       "        7.3625  ,  7.1375  ,  7.23125 ,  7.75    ,  7.51875 ,  7.38125 ,\n",
       "        7.2875  ])"
      ]
     },
     "execution_count": 336,
     "metadata": {},
     "output_type": "execute_result"
    }
   ],
   "source": [
    "ytest[days_back-1:].flatten()"
   ]
  },
  {
   "cell_type": "code",
   "execution_count": 2,
   "metadata": {},
   "outputs": [
    {
     "name": "stdout",
     "output_type": "stream",
     "text": [
      "Estimated intercept, slope: 0.263979, 2.965810\n"
     ]
    },
    {
     "data": {
      "image/png": "[encoded data removed]",
      "text/plain": [
       "<matplotlib.figure.Figure at 0x1110cbf28>"
      ]
     },
     "metadata": {},
     "output_type": "display_data"
    }
   ],
   "source": [
    "import matplotlib.pyplot as plt\n",
    "import numpy as np\n",
    "import seaborn as sns\n",
    "from sklearn import linear_model\n",
    "\n",
    "\n",
    "\n",
    "# Create N values, with 80% used for training \n",
    "# and 20% used for testing/evaluation\n",
    "N = 500\n",
    "split = int(0.8*N)\n",
    "\n",
    "# Set the intercept and slope of the univariate\n",
    "# linear regression simulated data\n",
    "alpha = 2.0\n",
    "beta = 3.0\n",
    "\n",
    "# Set the mean and variance of the randomly\n",
    "# distributed noise in the simulated dataset\n",
    "eps_mu = 0.0\n",
    "eps_sigma = 30.0\n",
    "\n",
    "# Set the mean and variance of the X data\n",
    "X_mu = 0.0\n",
    "X_sigma = 10.0\n",
    "\n",
    "# Create the error/noise, X and y data\n",
    "eps = np.random.normal(loc=eps_mu, scale=eps_sigma, size=N)\n",
    "X = np.random.normal(loc=X_mu, scale=X_sigma, size=N)\n",
    "y = alpha + beta*X + eps\n",
    "X = X.reshape(-1, 1)  # Needed to avoid deprecation warning\n",
    "\n",
    "# Split up the features, X, and responses, y, into\n",
    "# training and test arrays\n",
    "X_train = X[:split]\n",
    "X_test = X[split:]\n",
    "y_train = y[:split]\n",
    "y_test = y[split:]\n",
    "\n",
    "# Open a scikit-learn linear regression model \n",
    "# and fit it to the training data\n",
    "lr_model = linear_model.LinearRegression()\n",
    "lr_model.fit(X_train, y_train)\n",
    "\n",
    "# Output the estimated parameters for the linear model\n",
    "print(\n",
    "    \"Estimated intercept, slope: %0.6f, %0.6f\" % (\n",
    "        lr_model.intercept_,\n",
    "        lr_model.coef_[0]\n",
    "    )\n",
    ")\n",
    "\n",
    "# Create a scatterplot of the test data for features\n",
    "# against responses, plotting the estimated line\n",
    "# of best fit from the ordinary least squares procedure\n",
    "plt.scatter(X_test, y_test)\n",
    "plt.plot(\n",
    "    X_test, \n",
    "    lr_model.predict(X_test), \n",
    "    color='black',\n",
    "    linewidth=1.0\n",
    ")\n",
    "plt.xlabel(\"X\")\n",
    "plt.ylabel(\"y\")\n",
    "plt.show()"
   ]
  },
  {
   "cell_type": "code",
   "execution_count": null,
   "metadata": {
    "collapsed": true
   },
   "outputs": [],
   "source": []
  }
 ],
 "metadata": {
  "kernelspec": {
   "display_name": "Python 3",
   "language": "python",
   "name": "python3"
  },
  "language_info": {
   "codemirror_mode": {
    "name": "ipython",
    "version": 3
   },
   "file_extension": ".py",
   "mimetype": "text/x-python",
   "name": "python",
   "nbconvert_exporter": "python",
   "pygments_lexer": "ipython3",
   "version": "3.6.1"
  }
 },
 "nbformat": 4,
 "nbformat_minor": 2
}
